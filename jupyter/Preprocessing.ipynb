{
 "cells": [
  {
   "cell_type": "markdown",
   "metadata": {},
   "source": [
    "## Testing"
   ]
  },
  {
   "cell_type": "code",
   "execution_count": 1,
   "metadata": {},
   "outputs": [],
   "source": [
    "import sys\n",
    "import time\n",
    "sys.path.insert(0,'..') # to be able to import modules from parent folder\n"
   ]
  },
  {
   "cell_type": "code",
   "execution_count": null,
   "metadata": {},
   "outputs": [],
   "source": [
    "# cleaning\n",
    "start = time.time()\n",
    "\n",
    "import preprocess.clean_exa\n",
    "end = time.time()\n",
    "print(end - start)"
   ]
  },
  {
   "cell_type": "code",
   "execution_count": 5,
   "metadata": {},
   "outputs": [
    {
     "name": "stdout",
     "output_type": "stream",
     "text": [
      "Processing directory: b'../../data/cnn_clean/cnn_stories_tokenized/'\n",
      "Processing story 10000 of 92579; 10.80 percent done\n",
      "Processing story 20000 of 92579; 21.60 percent done\n",
      "Processing story 30000 of 92579; 32.40 percent done\n",
      "Processing story 40000 of 92579; 43.21 percent done\n",
      "Processing story 50000 of 92579; 54.01 percent done\n",
      "Processing story 60000 of 92579; 64.81 percent done\n",
      "Processing story 70000 of 92579; 75.61 percent done\n",
      "Processing story 80000 of 92579; 86.41 percent done\n",
      "Processing story 90000 of 92579; 97.21 percent done\n",
      "Processing directory: b'../../data/cnn_clean/dm_stories_tokenized/'\n",
      "Processing story 10000 of 219506; 4.56 percent done\n",
      "Processing story 20000 of 219506; 9.11 percent done\n",
      "Processing story 30000 of 219506; 13.67 percent done\n",
      "Processing story 40000 of 219506; 18.22 percent done\n",
      "Processing story 50000 of 219506; 22.78 percent done\n",
      "Processing story 60000 of 219506; 27.33 percent done\n",
      "Processing story 70000 of 219506; 31.89 percent done\n",
      "Processing story 80000 of 219506; 36.45 percent done\n",
      "Processing story 90000 of 219506; 41.00 percent done\n",
      "Processing story 100000 of 219506; 45.56 percent done\n",
      "Processing story 110000 of 219506; 50.11 percent done\n",
      "Processing story 120000 of 219506; 54.67 percent done\n",
      "Processing story 130000 of 219506; 59.22 percent done\n",
      "Processing story 140000 of 219506; 63.78 percent done\n",
      "Processing story 150000 of 219506; 68.34 percent done\n",
      "Processing story 160000 of 219506; 72.89 percent done\n",
      "Processing story 170000 of 219506; 77.45 percent done\n",
      "Processing story 180000 of 219506; 82.00 percent done\n",
      "Processing story 190000 of 219506; 86.56 percent done\n",
      "Processing story 200000 of 219506; 91.11 percent done\n",
      "Processing story 210000 of 219506; 95.67 percent done\n",
      "Too short articles: 4403\n",
      "Too short abstracts: 133880\n",
      "Number of saved articles: 173802\n",
      "Number of saved abstracts: 173802\n",
      "DONE\n"
     ]
    }
   ],
   "source": [
    "# preprocessing\n",
    "import preprocess.preprocess_cnn"
   ]
  },
  {
   "cell_type": "code",
   "execution_count": 2,
   "metadata": {},
   "outputs": [
    {
     "name": "stdout",
     "output_type": "stream",
     "text": [
      "start processing\n",
      "Processing directory: b'../../data/exa_clean/'\n",
      "Processing story 10000 of 361319; 2.77 percent done\n",
      "Processing story 20000 of 361319; 5.54 percent done\n",
      "Processing story 30000 of 361319; 8.30 percent done\n",
      "Processing story 40000 of 361319; 11.07 percent done\n",
      "Processing story 50000 of 361319; 13.84 percent done\n",
      "Processing story 60000 of 361319; 16.61 percent done\n",
      "Processing story 70000 of 361319; 19.37 percent done\n",
      "Processing story 80000 of 361319; 22.14 percent done\n",
      "Processing story 90000 of 361319; 24.91 percent done\n",
      "Processing story 100000 of 361319; 27.68 percent done\n",
      "Processing story 110000 of 361319; 30.44 percent done\n",
      "Processing story 120000 of 361319; 33.21 percent done\n",
      "Processing story 130000 of 361319; 35.98 percent done\n",
      "Processing story 140000 of 361319; 38.75 percent done\n",
      "Processing story 150000 of 361319; 41.51 percent done\n",
      "Processing story 160000 of 361319; 44.28 percent done\n",
      "Processing story 170000 of 361319; 47.05 percent done\n",
      "Processing story 180000 of 361319; 49.82 percent done\n",
      "Processing story 190000 of 361319; 52.59 percent done\n",
      "Processing story 200000 of 361319; 55.35 percent done\n",
      "Processing story 210000 of 361319; 58.12 percent done\n",
      "Processing story 220000 of 361319; 60.89 percent done\n",
      "Processing story 230000 of 361319; 63.66 percent done\n",
      "Processing story 240000 of 361319; 66.42 percent done\n",
      "Processing story 250000 of 361319; 69.19 percent done\n",
      "Processing story 260000 of 361319; 71.96 percent done\n",
      "Processing story 270000 of 361319; 74.73 percent done\n",
      "Processing story 280000 of 361319; 77.49 percent done\n",
      "Processing story 290000 of 361319; 80.26 percent done\n",
      "Processing story 300000 of 361319; 83.03 percent done\n",
      "Processing story 310000 of 361319; 85.80 percent done\n",
      "Processing story 320000 of 361319; 88.56 percent done\n",
      "Processing story 330000 of 361319; 91.33 percent done\n",
      "Processing story 340000 of 361319; 94.10 percent done\n",
      "Processing story 350000 of 361319; 96.87 percent done\n",
      "Processing story 360000 of 361319; 99.63 percent done\n",
      "Too short articles: 137972\n",
      "Too short abstracts: 141992\n",
      "Number of saved articles: 81355\n",
      "Number of saved abstracts: 81355\n",
      "DONE\n"
     ]
    }
   ],
   "source": [
    "# preprocessing\n",
    "import preprocess.preprocess_exa"
   ]
  },
  {
   "cell_type": "code",
   "execution_count": 6,
   "metadata": {},
   "outputs": [
    {
     "name": "stdout",
     "output_type": "stream",
     "text": [
      "Reading lines...\n",
      "Read 81355 articles\n",
      "Read 81355 abstracts\n",
      "Done generating vocabulary\n",
      "Done saving dataset\n",
      "No eos added for 56 sentences\n"
     ]
    }
   ],
   "source": [
    "# Create vocabulary and save in pickle format\n",
    "import preprocess.preprocess_pointer"
   ]
  },
  {
   "cell_type": "code",
   "execution_count": 2,
   "metadata": {},
   "outputs": [
    {
     "name": "stdout",
     "output_type": "stream",
     "text": [
      "Reading lines...\n",
      "Read 173802 articles\n",
      "Read 173802 abstracts\n",
      "Done generating vocabulary\n",
      "Done saving dataset\n",
      "No eos added for 13858 sentences\n"
     ]
    }
   ],
   "source": [
    "import preprocess.preprocess_pointer"
   ]
  },
  {
   "cell_type": "code",
   "execution_count": null,
   "metadata": {},
   "outputs": [],
   "source": []
  }
 ],
 "metadata": {
  "kernelspec": {
   "display_name": "Python 3",
   "language": "python",
   "name": "python3"
  },
  "language_info": {
   "codemirror_mode": {
    "name": "ipython",
    "version": 3
   },
   "file_extension": ".py",
   "mimetype": "text/x-python",
   "name": "python",
   "nbconvert_exporter": "python",
   "pygments_lexer": "ipython3",
   "version": "3.6.5"
  }
 },
 "nbformat": 4,
 "nbformat_minor": 2
}
