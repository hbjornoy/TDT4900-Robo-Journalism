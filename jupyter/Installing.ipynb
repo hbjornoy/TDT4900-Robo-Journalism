{
 "cells": [
  {
   "cell_type": "markdown",
   "metadata": {},
   "source": [
    "## Data-folder in parent folder of Repostitory\n",
    "TODO: remove perl.script and write where to put it \n",
    "\n",
    "put a folder in parent folder of repostitory with this structure:\n",
    "data\n",
    "- data\n",
    "    - cnn_preprocessed\n",
    "    - cnn_fake_data\n",
    "    - fill in rest\n",
    "    \n",
    "make a output_for_eval folder with this structure\n",
    "\n",
    "\n",
    "## Pyrouge\n",
    "TODO: remove perl.script and write where to put it \n",
    "todo: double check license of perl script\n",
    "\n",
    "\n",
    "Disclaimer: \n",
    "The Rouge installment was complicated with many different dependancies. It is put together with fragmented information gathered from different toturials and github-issues. I moved the pyrouge library into the repo to hopefully lessen the burden of installment. This installment will hopefully work for Ubuntu-users.\n",
    "\n",
    "- put a hidden folder called .pyrouge in your home directory that has a file called settings.ini (/home/#user#/.pyrouge/settings.ini). \n",
    "\n",
    "The settings.ini should contain the path to your repostitory's version of pyrouge:\n",
    "```\n",
    "[pyrouge settings]\n",
    "home_dir = /home/#user#/TDT4900-Robo-Journalism/pyrouge\n",
    "```\n",
    "\n",
    "\n",
    "**Install Perl:**\n",
    "\n",
    "https://askubuntu.com/questions/425427/how-to-install-perl-php-mysql-and-ruby-packages-on-ubuntu\n",
    "\n",
    "**Install Synaptic Package Manager**\n",
    "```sh\n",
    "sudo apt-get install synaptic\n",
    "```\n",
    "**Install X-dom stuff with synaptic package manager**\n",
    "Search for\n",
    "```sh\n",
    "libxml-dom-perl\n",
    "```\n",
    "\n",
    "****\n",
    "\n",
    "useful tutorial links:\n",
    "- https://github.com/bheinzerling/pyrouge\n",
    "- https://web.archive.org/web/20171107220839/www.summarizerman.com/post/42675198985/figuring-out-rouge\n",
    "- https://stackoverflow.com/questions/28941839/how-to-install-rouge-in-ubuntu/28941840\n",
    "- http://kavita-ganesan.com/rouge-howto/#.W17A8xixU5k\n",
    "- https://stackoverflow.com/questions/47045436/how-to-install-the-python-package-pyrouge-on-microsoft-windows/47045437#47045437 #windows\n"
   ]
  },
  {
   "cell_type": "code",
   "execution_count": null,
   "metadata": {},
   "outputs": [],
   "source": []
  }
 ],
 "metadata": {
  "kernelspec": {
   "display_name": "Python 3",
   "language": "python",
   "name": "python3"
  },
  "language_info": {
   "codemirror_mode": {
    "name": "ipython",
    "version": 3
   },
   "file_extension": ".py",
   "mimetype": "text/x-python",
   "name": "python",
   "nbconvert_exporter": "python",
   "pygments_lexer": "ipython3",
   "version": "3.6.5"
  }
 },
 "nbformat": 4,
 "nbformat_minor": 2
}
